{
 "cells": [
  {
   "cell_type": "markdown",
   "metadata": {},
   "source": [
    "## Curso profesional de Python"
   ]
  },
  {
   "cell_type": "code",
   "execution_count": 3,
   "metadata": {},
   "outputs": [
    {
     "name": "stdout",
     "output_type": "stream",
     "text": [
      "True\n"
     ]
    }
   ],
   "source": [
    "#Código de un programa profesiona para un saber si una cadena \n",
    "#de carácteres es un palíndromo\n",
    "\n",
    "\n",
    "#Función que define si es un palíndromo o no\n",
    "#Toma valores string y devuelve uno del tipo booleano\n",
    "def is_palindrome(string: str) -> bool:\n",
    "    #Reemplaza los espación por espacios vaciós\n",
    "    #Para dar la oportunidad de escribir frases\n",
    "    #con el método .lower colocamos todo minúsculas\n",
    "    string = string.replace(\" \", \"\").lower()\n",
    "    #Se le da vuelta al iterable\n",
    "    return string == string[::-1]\n",
    "\n",
    "\n",
    "def run():\n",
    "    print(is_palindrome(\"ana\"))\n",
    "    \n",
    "\n",
    "if __name__ == '__main__':\n",
    "    run()\n",
    "    "
   ]
  },
  {
   "cell_type": "code",
   "execution_count": 7,
   "metadata": {},
   "outputs": [
    {
     "name": "stdout",
     "output_type": "stream",
     "text": [
      "HolaHolaHolaHolaHola\n",
      "PlatziPlatziPlatziPlatziPlatziPlatziPlatziPlatziPlatziPlatzi\n"
     ]
    }
   ],
   "source": [
    "#Ejemplo de Closure\n",
    "\n",
    "#Debe existir una nested function\n",
    "#Debe tomar valores de un scope superior\n",
    "#La función nested debe ser retornada\n",
    "def make_repeter_of(n):\n",
    "    def repeater(string):\n",
    "        assert type(string) == str, \"Solo puedes utilizar cadenas\"\n",
    "        return string * n\n",
    "    return repeater\n",
    "\n",
    "def run():\n",
    "    #Esta función recordará el valor de 5\n",
    "    repeat_5 = make_repeter_of(5)\n",
    "    repeat_10 = make_repeter_of(10)\n",
    "    print(repeat_5(\"Hola\"))\n",
    "    print(repeat_10('Platzi'))\n",
    "    \n",
    "if __name__ == '__main__':\n",
    "    run()"
   ]
  },
  {
   "cell_type": "code",
   "execution_count": 10,
   "metadata": {},
   "outputs": [
    {
     "name": "stdout",
     "output_type": "stream",
     "text": [
      "6.0\n",
      "20.0\n",
      "3.0\n"
     ]
    }
   ],
   "source": [
    "#Reto\n",
    "\n",
    "def make_division_by(n):\n",
    "    #Este Closure regresa una función que returna la \n",
    "    #división de x por un número n\n",
    "    def divisor(x):\n",
    "        return x/n\n",
    "    return divisor\n",
    "\n",
    "division_by_3 = make_division_by(3)\n",
    "print(division_by_3(18))\n",
    "\n",
    "division_by_5 = make_division_by(5)\n",
    "print(division_by_5(100))\n",
    "\n",
    "division_by_18 = make_division_by(18)\n",
    "print(division_by_18(54))"
   ]
  },
  {
   "cell_type": "code",
   "execution_count": null,
   "metadata": {},
   "outputs": [],
   "source": [
    "#Decorators\n",
    "#Modulo datetime\n",
    "from datetime import datetime\n",
    "\n",
    "#Para que se puedan utilizar todo tipo de datos\n",
    "#se utiliza args y kwargs, asi pueden usarse en\n",
    "#funciones como suma\n",
    "def execution_time(func):\n",
    "    def wrapper(*args, **kwargs):\n",
    "        initial_time = datetime.now()\n",
    "        func(*args, **kwargs)\n",
    "        final_time = datetime.now()\n",
    "        time_elapsed = final_time - initial_time\n",
    "        print('Pasaron', time_elapsed.total_seconds(), \"segundos\")\n",
    "    return wrapper\n",
    "\n",
    "\n",
    "@execution_time\n",
    "def random_func():\n",
    "    #Se coloca un guió bajo porque no interesa las variables\n",
    "    #De cada una de las vueltas.\n",
    "    for _ in range(1,100000000):\n",
    "        pass\n",
    "\n",
    "#random_func()\n",
    "\n",
    "@execution_time\n",
    "def suma(a: int, b: int) -> int:\n",
    "    return a + b\n",
    "\n",
    "#suma(5,5)\n",
    "\n",
    "#El tipo de parámetros que tiene nombre tienen un tipo\n",
    "#de arguments y son llamados tipo kwargs. Con el doble\n",
    "#Asteriscos decimos que no importa la cantidad de de tipos \n",
    "#Kwargs, que se ejecute igual\n",
    "@execution_time\n",
    "def saludo(nombre = 'Cesar'):\n",
    "    print(\"hola\" + nombre)\n",
    "\n",
    "\n",
    "random_func()\n",
    "suma(5,5)\n",
    "saludo('Jefferson')"
   ]
  },
  {
   "cell_type": "code",
   "execution_count": null,
   "metadata": {},
   "outputs": [],
   "source": [
    "#Iteradores\n",
    "\n",
    "class EvenNumbers:\n",
    "    \"\"\" Clase que implementa un iterador de todos los números\n",
    "        pares, o los números pares hasta un máximo \"\"\"\n",
    "    def __init__(self, max = None):\n",
    "        self.max = max\n",
    "        \n",
    "    def __iter__(self):\n",
    "        self.nums = 0\n",
    "        return self\n",
    "    \n",
    "    def __next__(self):\n",
    "        if not self.max or self.num <= self.max:\n",
    "            result = self.num\n",
    "            self.num += 2\n",
    "            return result\n",
    "        else:\n",
    "            raise StopIteration"
   ]
  },
  {
   "cell_type": "code",
   "execution_count": 2,
   "metadata": {},
   "outputs": [
    {
     "name": "stdout",
     "output_type": "stream",
     "text": [
      "0\n",
      "1\n",
      "1\n",
      "2\n",
      "3\n",
      "5\n",
      "8\n",
      "13\n",
      "21\n",
      "34\n",
      "55\n",
      "89\n",
      "144\n",
      "233\n",
      "377\n",
      "610\n",
      "987\n",
      "1597\n",
      "2584\n",
      "4181\n",
      "6765\n",
      "10946\n",
      "17711\n",
      "28657\n",
      "46368\n",
      "75025\n",
      "121393\n",
      "196418\n",
      "317811\n",
      "514229\n",
      "832040\n",
      "1346269\n",
      "2178309\n",
      "3524578\n",
      "5702887\n",
      "9227465\n",
      "14930352\n",
      "24157817\n",
      "39088169\n",
      "63245986\n",
      "102334155\n",
      "165580141\n",
      "267914296\n",
      "433494437\n",
      "701408733\n",
      "1134903170\n",
      "1836311903\n",
      "2971215073\n",
      "4807526976\n",
      "7778742049\n",
      "12586269025\n"
     ]
    }
   ],
   "source": [
    "#Iterators (Fibonacci)\n",
    "\n",
    "import time\n",
    "\n",
    "class FiboIter():\n",
    "    \n",
    "    def __init__(self, max):\n",
    "        self.max = max\n",
    "        \n",
    "    def __iter__(self):\n",
    "        self.n1 = 0\n",
    "        self.n2 = 1\n",
    "        self.counter = 0\n",
    "        return self\n",
    "    \n",
    "    def __next__(self):\n",
    "        #Condiciones iniciales\n",
    "        if self.counter == 0:\n",
    "            self.counter += 1\n",
    "            return self.n1\n",
    "        elif self.counter == 1:\n",
    "            self.counter += 1\n",
    "            return self.n2\n",
    "        else:\n",
    "            if self.counter <= self.max:\n",
    "                #Se hace un swap, la ocupación de n1 pasa a ser \n",
    "                #La ocupación de n2 y la de n2 pasa a ser la de aux\n",
    "                self.aux = self.n1 + self.n2\n",
    "                #self.n1 = self.n2\n",
    "                #self.n2 = self.aux\n",
    "                self.n1, self.n2 = self.n2, self.aux\n",
    "                self.counter += 1\n",
    "                return self.aux\n",
    "            else:\n",
    "                raise StopIteration\n",
    "\n",
    "if __name__ == '__main__':\n",
    "    fibonacci = FiboIter(50)\n",
    "    for element in fibonacci:\n",
    "        print(element)\n",
    "        #Se pausa después de 1 segundo\n",
    "        #time.sleep(0.05)"
   ]
  },
  {
   "cell_type": "code",
   "execution_count": 3,
   "metadata": {},
   "outputs": [
    {
     "name": "stdout",
     "output_type": "stream",
     "text": [
      "Hello world!\n",
      "0\n",
      "Hello Heaven!\n",
      "1\n",
      "Hello Hell!\n",
      "2\n"
     ]
    },
    {
     "ename": "StopIteration",
     "evalue": "",
     "output_type": "error",
     "traceback": [
      "\u001b[0;31m---------------------------------------------------------------------------\u001b[0m",
      "\u001b[0;31mStopIteration\u001b[0m                             Traceback (most recent call last)",
      "\u001b[0;32m<ipython-input-3-88676d711580>\u001b[0m in \u001b[0;36m<module>\u001b[0;34m()\u001b[0m\n\u001b[1;32m     18\u001b[0m \u001b[0mprint\u001b[0m\u001b[0;34m(\u001b[0m\u001b[0mnext\u001b[0m\u001b[0;34m(\u001b[0m\u001b[0ma\u001b[0m\u001b[0;34m)\u001b[0m\u001b[0;34m)\u001b[0m\u001b[0;34m\u001b[0m\u001b[0m\n\u001b[1;32m     19\u001b[0m \u001b[0mprint\u001b[0m\u001b[0;34m(\u001b[0m\u001b[0mnext\u001b[0m\u001b[0;34m(\u001b[0m\u001b[0ma\u001b[0m\u001b[0;34m)\u001b[0m\u001b[0;34m)\u001b[0m\u001b[0;34m\u001b[0m\u001b[0m\n\u001b[0;32m---> 20\u001b[0;31m \u001b[0mprint\u001b[0m\u001b[0;34m(\u001b[0m\u001b[0mnext\u001b[0m\u001b[0;34m(\u001b[0m\u001b[0ma\u001b[0m\u001b[0;34m)\u001b[0m\u001b[0;34m)\u001b[0m \u001b[0;31m#StopIteration\u001b[0m\u001b[0;34m\u001b[0m\u001b[0m\n\u001b[0m",
      "\u001b[0;31mStopIteration\u001b[0m: "
     ]
    }
   ],
   "source": [
    "def my_gend():\n",
    "    \"\"\" Un ejemplo de generadores\"\"\"\n",
    "    \n",
    "    print('Hello world!')\n",
    "    n=0\n",
    "    yield n\n",
    "    \n",
    "    print('Hello Heaven!')\n",
    "    n=1\n",
    "    yield n\n",
    "    \n",
    "    print('Hello Hell!')\n",
    "    n=2\n",
    "    yield n\n",
    "    \n",
    "a = my_gend()\n",
    "print(next(a))\n",
    "print(next(a))\n",
    "print(next(a))\n",
    "print(next(a)) #StopIteration"
   ]
  },
  {
   "cell_type": "code",
   "execution_count": 6,
   "metadata": {},
   "outputs": [],
   "source": [
    "#Iterator expression\n",
    "\n",
    "my_list = [0, 1, 4, 7, 9, 10]\n",
    "\n",
    "my_second_list = [x*2 for x in my_list] #Generator comprehensions\n",
    "my_second_gen = (x*2 for x in my_list)  #Generator expression\n"
   ]
  },
  {
   "cell_type": "code",
   "execution_count": 9,
   "metadata": {},
   "outputs": [
    {
     "name": "stdout",
     "output_type": "stream",
     "text": [
      "0\n",
      "1\n",
      "1\n",
      "2\n",
      "3\n",
      "5\n",
      "8\n",
      "13\n"
     ]
    },
    {
     "ename": "KeyboardInterrupt",
     "evalue": "",
     "output_type": "error",
     "traceback": [
      "\u001b[0;31m---------------------------------------------------------------------------\u001b[0m",
      "\u001b[0;31mKeyboardInterrupt\u001b[0m                         Traceback (most recent call last)",
      "\u001b[0;32m<ipython-input-9-3b317ca4b7a7>\u001b[0m in \u001b[0;36m<module>\u001b[0;34m()\u001b[0m\n\u001b[1;32m     26\u001b[0m     \u001b[0;32mfor\u001b[0m \u001b[0melement\u001b[0m \u001b[0;32min\u001b[0m \u001b[0mfibonacci\u001b[0m\u001b[0;34m:\u001b[0m\u001b[0;34m\u001b[0m\u001b[0m\n\u001b[1;32m     27\u001b[0m         \u001b[0mprint\u001b[0m\u001b[0;34m(\u001b[0m\u001b[0melement\u001b[0m\u001b[0;34m)\u001b[0m\u001b[0;34m\u001b[0m\u001b[0m\n\u001b[0;32m---> 28\u001b[0;31m         \u001b[0mtime\u001b[0m\u001b[0;34m.\u001b[0m\u001b[0msleep\u001b[0m\u001b[0;34m(\u001b[0m\u001b[0;36m1\u001b[0m\u001b[0;34m)\u001b[0m\u001b[0;34m\u001b[0m\u001b[0m\n\u001b[0m\u001b[1;32m     29\u001b[0m \u001b[0;34m\u001b[0m\u001b[0m\n",
      "\u001b[0;31mKeyboardInterrupt\u001b[0m: "
     ]
    }
   ],
   "source": [
    "#Generators \n",
    "# Suseción de Fibonacci utilizando generadores\n",
    "\n",
    "import time\n",
    "\n",
    "#sin utilizar clases.\n",
    "def fibo_gen():\n",
    "    n1 = 0\n",
    "    n2 = 1\n",
    "    counter = 0\n",
    "    while True:\n",
    "        if counter == 0:\n",
    "            counter += 1\n",
    "            yield n1\n",
    "        elif counter == 1:\n",
    "            counter += 1\n",
    "            yield n2\n",
    "        else:\n",
    "            aux = n1 + n2\n",
    "            n1, n2 = n2, aux\n",
    "            counter += 1\n",
    "            yield aux\n",
    "    \n",
    "if __name__ == '__main__':\n",
    "    fibonacci = fibo_gen()\n",
    "    for element in fibonacci:\n",
    "        print(element)\n",
    "        time.sleep(1)\n",
    "    "
   ]
  },
  {
   "cell_type": "code",
   "execution_count": 14,
   "metadata": {},
   "outputs": [
    {
     "name": "stdout",
     "output_type": "stream",
     "text": [
      "0\n",
      "1\n",
      "1\n",
      "2\n",
      "3\n",
      "5\n",
      "8\n",
      "13\n",
      "21\n",
      "34\n"
     ]
    }
   ],
   "source": [
    "#Reto: Fibonacci con un limite\n",
    "\n",
    "from time import sleep\n",
    "\n",
    "def fibo_gen(limit):\n",
    "    n1, n2, counter = 0, 1, 0\n",
    "    while True:\n",
    "        if counter == 0:\n",
    "            counter += 1\n",
    "            yield n1\n",
    "        elif counter ==1:\n",
    "            counter +=1\n",
    "            yield n2\n",
    "        elif counter <= limit-1:\n",
    "            counter += 1\n",
    "            aux = n1 + n2\n",
    "            n1, n2 = n2, aux\n",
    "            yield aux\n",
    "        else:\n",
    "            break\n",
    "            \n",
    "if __name__ == '__main__':\n",
    "    fibonacci = fibo_gen(10)\n",
    "    for element in fibonacci:\n",
    "        print(element)\n",
    "        time.sleep(1)"
   ]
  },
  {
   "cell_type": "code",
   "execution_count": 2,
   "metadata": {},
   "outputs": [
    {
     "name": "stdout",
     "output_type": "stream",
     "text": [
      "[1, 2, 4]\n"
     ]
    }
   ],
   "source": [
    "#Sets\n",
    "#Programa que elimine los duplicados de una lista\n",
    "\n",
    "def remove_duplicates(some_list):\n",
    "    without_duplicates = []\n",
    "    for element in some_list:\n",
    "        if element not in without_duplicates:\n",
    "            without_duplicates.append(element)\n",
    "    return without_duplicates\n",
    "    \n",
    "def run():\n",
    "    random_list = [1,1,2,2,4]\n",
    "    print(remove_duplicates(random_list))\n",
    "    \n",
    "if __name__ == '__main__':\n",
    "    run()\n",
    "    "
   ]
  },
  {
   "cell_type": "code",
   "execution_count": null,
   "metadata": {},
   "outputs": [],
   "source": [
    "# Programa que elimine los elementos repetidos de una lista, \n",
    "# pero en lugar de utilizar ciclo for utiliza sets."
   ]
  },
  {
   "cell_type": "code",
   "execution_count": 7,
   "metadata": {},
   "outputs": [
    {
     "name": "stdout",
     "output_type": "stream",
     "text": [
      "[1, 2, 4]\n"
     ]
    }
   ],
   "source": [
    "\n",
    "def remove_duplicates(some_list):\n",
    "    return list(set(some_list))\n",
    "\n",
    "def run():\n",
    "    random_list = [1,1,2,2,4]\n",
    "    print(remove_duplicates(random_list))\n",
    "    \n",
    "if __name__ == '__main__':\n",
    "    run()"
   ]
  },
  {
   "cell_type": "code",
   "execution_count": 8,
   "metadata": {},
   "outputs": [
    {
     "name": "stdout",
     "output_type": "stream",
     "text": [
      "2022-07-25 19:21:59.136902\n"
     ]
    }
   ],
   "source": [
    "import datetime\n",
    "\n",
    "my_time = datetime.datetime.now()\n",
    "print(my_time)"
   ]
  },
  {
   "cell_type": "code",
   "execution_count": 10,
   "metadata": {},
   "outputs": [
    {
     "name": "stdout",
     "output_type": "stream",
     "text": [
      "2022-07-25\n"
     ]
    }
   ],
   "source": [
    "import datetime\n",
    "\n",
    "my_day = datetime.date.today()\n",
    "print(my_day)\n"
   ]
  },
  {
   "cell_type": "code",
   "execution_count": 13,
   "metadata": {},
   "outputs": [
    {
     "name": "stdout",
     "output_type": "stream",
     "text": [
      "2022-07-25 22:26:14.267790\n",
      "Formato LATAM: 25/07/2022\n",
      "Fortamo USA: 07/25/2022 \n",
      "Formato random: Estamos en el año 2022\n"
     ]
    }
   ],
   "source": [
    "from datetime import datetime\n",
    "\n",
    "my_datetime = datetime.now()\n",
    "print(my_datetime)\n",
    "\n",
    "my_str = my_datetime.strftime('%d/%m/%Y')\n",
    "print(f'Formato LATAM: {my_str}')\n",
    "\n",
    "my_str = my_datetime.strftime('%m/%d/%Y')\n",
    "print(f'Fortamo USA: {my_str} ')\n",
    "\n",
    "my_str = my_datetime.strftime('Estamos en el año %Y')\n",
    "print(f'Formato random: {my_str}')"
   ]
  },
  {
   "cell_type": "code",
   "execution_count": 14,
   "metadata": {},
   "outputs": [
    {
     "name": "stdout",
     "output_type": "stream",
     "text": [
      "Guatemala:  25/07/2022, 22:54:41\n"
     ]
    }
   ],
   "source": [
    "from datetime import datetime\n",
    "import pytz\n",
    "\n",
    "guatemala_timezone = pytz.timezone(\"America/Guatemala\")\n",
    "guatemala_date = datetime.now(guatemala_timezone)\n",
    "print(\"Guatemala: \", guatemala_date.strftime(\"%d/%m/%Y, %H:%M:%S\"))"
   ]
  },
  {
   "cell_type": "code",
   "execution_count": 16,
   "metadata": {},
   "outputs": [
    {
     "data": {
      "text/plain": [
       "'Hello world'"
      ]
     },
     "execution_count": 16,
     "metadata": {},
     "output_type": "execute_result"
    }
   ],
   "source": [
    "my_var: str = \"Hello world\"\n",
    "my_var"
   ]
  }
 ],
 "metadata": {
  "kernelspec": {
   "display_name": "Python 3 (ipykernel)",
   "language": "python",
   "name": "python3"
  },
  "language_info": {
   "codemirror_mode": {
    "name": "ipython",
    "version": 3
   },
   "file_extension": ".py",
   "mimetype": "text/x-python",
   "name": "python",
   "nbconvert_exporter": "python",
   "pygments_lexer": "ipython3",
   "version": "3.7.0"
  }
 },
 "nbformat": 4,
 "nbformat_minor": 2
}
